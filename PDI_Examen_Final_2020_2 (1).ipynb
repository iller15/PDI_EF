{
 "cells": [
  {
   "cell_type": "markdown",
   "metadata": {
    "id": "peNv8JLDkSHF"
   },
   "source": [
    "# Procesamiento Digital de Imágenes - Examen Final"
   ]
  },
  {
   "cell_type": "markdown",
   "metadata": {
    "id": "QWNjYh93k-Rw"
   },
   "source": [
    "## Instrucciones\n",
    "\n",
    "1.\tEl examen consta de 1 pregunta y tendrá 1 semana para resolverla con su equipo del trabajo final (en caso de sobrar uno o dos alumnos pueden crearse, máximo dos equipos de 2 integrantes).\n",
    "2.\tEl trabajo será entregado, en el aula virtual, hasta las 7:59:59 am del viernes 8 de diciembre. En seguida habrá una exposición, máximo 10 minutos por grupo, de los grupos de trabajo de 8 a 10 am. **BAJO NINGUN MOTIVO SE ACEPTARAN EXAMENES FUERA DEL LIMITE DE TIEMPO INDICADO**\n",
    "3.\tEl examen cuenta con un docente académico, el cual estará conectado durante los primeros 20 minutos del examen.\n",
    "4.\tLas dudas conceptuales sobre el examen han de presentarse dentro de los primeros 20 minutos mediante un correo al profesor GONZALEZ VALENZUELA, RICARDO EUGENIO a pcsirgon@upc.edu.pe.\n",
    "5.\tLos inconvenientes técnicos pueden presentarse a pasado los primeros 20 minutos, puede comunicarlo al profesor GONZALEZ VALENZUELA, RICARDO EUGENIO a pcsirgon@upc.edu.pe.\n",
    "6.\tEl profesor en mención solo recibirá correos provenientes de las cuentas UPC, de ninguna manera se recibirán correos de cuentas públicas. \n",
    "7.\tAnte problemas técnicos, debe de forma obligatoria adjuntar evidencias del mismo, como capturas de pantalla, videos, fotos, etc. Siendo requisito fundamental que, en cada evidencia se pueda apreciar claramente la fecha y hora del sistema operativo del computador donde el alumno está rindiendo el examen. \n",
    "8.\tLos correos sobre problemas técnicos se recibirán hasta 15 minutos luego de culminado el examen.\n"
   ]
  },
  {
   "cell_type": "markdown",
   "metadata": {
    "id": "77aKbY1YFl3g"
   },
   "source": [
    "## Integrantes\n",
    "\n",
    "*   Alumno 1: <font color='green'> u20181a010 - Joaquin Adrian Galvan Diaz</font><br>\n",
    "*   Alumno 2: <font color='green'> u201818067 - Dante Brandon Moreno Carhuacusma</font><br>"
   ]
  },
  {
   "cell_type": "markdown",
   "metadata": {
    "id": "vLrugUgnlIMN"
   },
   "source": [
    "## Caso de Estudio - Video Summarization\n",
    "\n",
    "1. Descargar y/o crear videos de 10 a 15 minutos y efectuar un resumen de tiempo en los mismos.\n",
    "\n",
    "2. Aplicando únicamente técnicas de procesamiento digital de imágenes, segmentar los objetos que aparecen en diferentes instantes y sobreponerlos en una cantidad muy inferior de frames etiquetando cada objeto con los insantes de tiempo en que aparece en el video.\n",
    "\n",
    "3. En el siguiente [video](https://www.youtube.com/watch?v=gk3qTMlcadk), podrá tener un mejor concepto de lo solicitado. \n",
    "\n",
    "4.\tDocumente sus métodos y elecciones. Explique su metodología. Codifique su solución. Obtenga resultados y realice comparaciones. Redacte sus conclusiones.\n"
   ]
  },
  {
   "cell_type": "markdown",
   "metadata": {
    "id": "EIvisRJOJgJ_"
   },
   "source": [
    "## Resolución"
   ]
  },
  {
   "cell_type": "markdown",
   "metadata": {
    "id": "r02P9REKJkS1"
   },
   "source": [
    "### Metodología (6 puntos)"
   ]
  },
  {
   "cell_type": "markdown",
   "metadata": {
    "id": "fYL90_sGsXQv"
   },
   "source": [
    "<font color='green'>Aquí **enumere** y **explique** los pasos de su metodología </font>"
   ]
  },
  {
   "cell_type": "markdown",
   "metadata": {},
   "source": [
    "#### Primer método: Diferencia de imágenes y ROIs"
   ]
  },
  {
   "cell_type": "markdown",
   "metadata": {},
   "source": [
    "En nuestro primer método, asumimos que el primer frame del video está \"limpio\", es decir, es la base sobre la cual detectar los nuevos objetos en la imagen. Definimos entonces:\n",
    "\n",
    " * $A$: Primer frame del video.\n",
    " * $B_{n}$: n-ésimo frame del video."
   ]
  },
  {
   "cell_type": "markdown",
   "metadata": {},
   "source": [
    "La primera tarea es identificar regiones de interés (ROIs) donde ocurran cambios en el video. Luego se podrá utilizar esta información para calcular juntar los objetos en el resumen. El algoritmo de es:"
   ]
  },
  {
   "cell_type": "markdown",
   "metadata": {},
   "source": [
    "1. Por cada $B_{n}$:\n",
    "> $ROIs$: Arreglo que guardará las regiones de interés en el frame.\n",
    "> - 1.1. Hallar la diferencia: $D_{n}$ = $A$ - $B_{n}$. **Si** $B_{n}$ es similar a $A$, $D_{n}$ estará compuesto en su mayoría por $0s$.\n",
    "> - 1.2. Aplicar filtro de la media o mediana sobre $D_{n}$, ya que puede ser afectado por el rudio\n",
    "> - 1.3. Binarizar o Aplicar un operador clásico de Edge Detection sobre $D_{n}$\n",
    "> - 1.4. $contornos \\leftarrow findContours(D_{n})$\n",
    "> - 1.5. Por cada $c$ en $contornos$:\n",
    ">> * Agregar rectángulo envolvente de $c$ al arreglo $ROIs$"
   ]
  },
  {
   "cell_type": "markdown",
   "metadata": {},
   "source": [
    "El arreglo $ROIs$ guarda las regiones de interés en un frame detectadas. Para la selección, queremos guardar un identificador del objeto para los diferentes frames. Además, se debe guardar el momento en el tiempo en el que aparece una región de interés. Entonces, definimos \"Objeto\" en el video, donde cada \"Objeto\" aparece en distintas ROIs en cada frame del video."
   ]
  },
  {
   "cell_type": "markdown",
   "metadata": {
    "id": "tvNvTKIFJvwQ"
   },
   "source": [
    "### Implementación (6 puntos)"
   ]
  },
  {
   "cell_type": "code",
   "execution_count": 22,
   "metadata": {},
   "outputs": [
    {
     "name": "stdout",
     "output_type": "stream",
     "text": [
      "Requirement already satisfied: pafy in c:\\users\\joaqu\\anaconda3\\lib\\site-packages (0.5.5)\n",
      "Requirement already satisfied: youtube-dl in c:\\users\\joaqu\\anaconda3\\lib\\site-packages (2020.11.29)\n"
     ]
    }
   ],
   "source": [
    "!pip install pafy\n",
    "!pip install youtube-dl"
   ]
  },
  {
   "cell_type": "code",
   "execution_count": 1,
   "metadata": {
    "id": "LQoyq0_GJ5aB"
   },
   "outputs": [],
   "source": [
    "import cv2\n",
    "import numpy as np\n",
    "import pandas as pd\n",
    "import pafy\n",
    "import matplotlib.pyplot as plt"
   ]
  },
  {
   "cell_type": "markdown",
   "metadata": {},
   "source": [
    "#### Cargar el vídeo"
   ]
  },
  {
   "cell_type": "code",
   "execution_count": 2,
   "metadata": {},
   "outputs": [],
   "source": [
    "def cv2_imshow(imagen, titulo = \"Imagen\"):\n",
    "    cv2.imshow(titulo,imagen)\n",
    "    cv2.waitKey(0)\n",
    "    cv2.destroyAllWindows()"
   ]
  },
  {
   "cell_type": "code",
   "execution_count": 3,
   "metadata": {},
   "outputs": [],
   "source": [
    "url = \"https://www.youtube.com/watch?v=CkVJyAKwByw\"\n",
    "video = pafy.new(url)\n",
    "best = video.getbest(preftype=\"mp4\")"
   ]
  },
  {
   "cell_type": "markdown",
   "metadata": {},
   "source": [
    "## Reproducir el video"
   ]
  },
  {
   "cell_type": "code",
   "execution_count": 4,
   "metadata": {},
   "outputs": [],
   "source": [
    "Frame_Prueba_0 = None\n",
    "Frame_Prueba_X = None"
   ]
  },
  {
   "cell_type": "code",
   "execution_count": 5,
   "metadata": {},
   "outputs": [],
   "source": [
    "capture = cv2.VideoCapture()\n",
    "capture.open(best.url)\n",
    "\n",
    "j = 0\n",
    "\n",
    "anterior = None\n",
    "start = True\n",
    "\n",
    "while (capture.isOpened()):\n",
    "    ##Por cada frame del video:\n",
    "    #capturar y mostrar el frame\n",
    "    ret, frame = capture.read()\n",
    "    #cv2.imshow(\"It's meta\",frame)\n",
    "    frame = cv2.cvtColor(frame,cv2.COLOR_RGB2GRAY)\n",
    "    \n",
    "    if j == 0:\n",
    "        Frame_Prueba_0 = frame\n",
    "    elif j == 180:\n",
    "        Frame_Prueba_X = frame\n",
    "    \n",
    "    if not start:        \n",
    "        dif = anterior - frame\n",
    "        dif = cv2.adaptiveThreshold(frame,255,cv2.ADAPTIVE_THRESH_GAUSSIAN_C,cv2.THRESH_BINARY_INV,11,0)\n",
    "        cv2.imshow(\"Diferencia\",dif)\n",
    "    else:\n",
    "        start = False    \n",
    "    anterior = frame\n",
    "    \n",
    "    j += 1\n",
    "    \n",
    "    if(cv2.waitKey(20) & 0xFF == ord('q')):\n",
    "        anterior = dif\n",
    "        break\n",
    "capture.release()\n",
    "cv2.destroyAllWindows()\n",
    "\n",
    "cv2.imshow(\"Diferencia\",anterior)\n",
    "cv2.waitKey(0)\n",
    "cv2.destroyAllWindows()"
   ]
  },
  {
   "cell_type": "markdown",
   "metadata": {},
   "source": [
    "## Pruebas Dante"
   ]
  },
  {
   "cell_type": "code",
   "execution_count": 6,
   "metadata": {},
   "outputs": [
    {
     "data": {
      "text/plain": [
       "(720, 1280)"
      ]
     },
     "execution_count": 6,
     "metadata": {},
     "output_type": "execute_result"
    }
   ],
   "source": [
    "anterior.shape"
   ]
  },
  {
   "cell_type": "code",
   "execution_count": 7,
   "metadata": {},
   "outputs": [],
   "source": [
    "def graficarRectDeROIs(imagen, ROIs):\n",
    "    for roi in ROIs:\n",
    "        (x,y,w,h) = roi\n",
    "        cv2.rectangle(imagen, (x,y), (x+w,y+h), (255,0,0), 2)"
   ]
  },
  {
   "cell_type": "markdown",
   "metadata": {},
   "source": [
    "Capturar los primeros \"N\" frames para poder testear.\n",
    "Se baja la resolución para evitar carga"
   ]
  },
  {
   "cell_type": "code",
   "execution_count": 8,
   "metadata": {},
   "outputs": [],
   "source": [
    "N_Prueba = 240 #Cantidad de frames de prueba"
   ]
  },
  {
   "cell_type": "code",
   "execution_count": 9,
   "metadata": {},
   "outputs": [
    {
     "name": "stdout",
     "output_type": "stream",
     "text": [
      "480 853\n"
     ]
    }
   ],
   "source": [
    "nH = int(anterior.shape[0] // 1.5)\n",
    "nW = int(anterior.shape[1] // 1.5)\n",
    "print(nH,nW)"
   ]
  },
  {
   "cell_type": "markdown",
   "metadata": {},
   "source": [
    "Funciones adicionales para ayudar:"
   ]
  },
  {
   "cell_type": "code",
   "execution_count": 10,
   "metadata": {},
   "outputs": [],
   "source": [
    "def areaInterseccion(roi1, roi2):\n",
    "    def dEje(tuplaS): #tuplaS: [ (x1, x1 + w1) , (x2, x2 + w2) ]\n",
    "        def auxResta(v1, v2): #.... Devuelve la resta, si es negativo, devuelve 0\n",
    "            d = v1 - v2\n",
    "            if d < 0:\n",
    "                return 0\n",
    "            return d\n",
    "        im = 0 #id del segmento más cerca a 0\n",
    "        iM = 1 #id del segmento más lejos de 0\n",
    "        if tuplaS[1][0] < tuplaS[0][0]:\n",
    "            im = 1\n",
    "            iM = 0\n",
    "        return (tuplaS[im][1] - tuplaS[iM][0]) - auxResta(tuplaS[im][1], tuplaS[iM][1])\n",
    "    (x1, y1, w1, h1) = roi1\n",
    "    (x2, y2, w2, h2) = roi2\n",
    "    if x1 < x2 + w2 and x1 + w1 > x2 and y1 < y2 + h2 and y1 + h1 > y2: # Si colisionan\n",
    "        dx = dEje([(x1, x1+w1), (x2, x2+w2)])\n",
    "        dy = dEje([(y1, y1+h1), (y2, y2+h2)])\n",
    "        return dx * dy\n",
    "    return 0\n",
    "def roiUroi(roi1, roi2):\n",
    "    nXmin = min(roi1[0],roi2[0])\n",
    "    nXmax = max(roi1[0] + roi1[2],roi2[0] + roi2[2])\n",
    "    nYmin = min(roi1[1],roi2[1])\n",
    "    nYmax = max(roi1[1] + roi1[3],roi2[1] + roi2[3])\n",
    "    return (nXmin, nYmin, nXmax - nXmin, nYmax - nYmin)"
   ]
  },
  {
   "cell_type": "code",
   "execution_count": 11,
   "metadata": {},
   "outputs": [
    {
     "data": {
      "text/plain": [
       "9"
      ]
     },
     "execution_count": 11,
     "metadata": {},
     "output_type": "execute_result"
    }
   ],
   "source": [
    "areaInterseccion((0,0,3,3),(0,0,4,4))"
   ]
  },
  {
   "cell_type": "code",
   "execution_count": 12,
   "metadata": {},
   "outputs": [],
   "source": [
    "## =========================== LEER ========================\n",
    "# Se está agregando un limitador para no tener \"rois\" muy pequeñas"
   ]
  },
  {
   "cell_type": "code",
   "execution_count": 13,
   "metadata": {},
   "outputs": [],
   "source": [
    "# Retorna un arreglos de ROIs de un frame n, comparando con el frame 0\n",
    "def roisDeFrame(f0, fn, dimKernelBlur, umbralDif): # BTW: dimKernelBlur debe ser impar\n",
    "    if len(f0.shape) > 2:\n",
    "        f0 = cv2.cvtColor(f0,cv2.COLOR_RGB2GRAY)\n",
    "    if len(fn.shape) > 2:\n",
    "        fn = cv2.cvtColor(fn,cv2.COLOR_RGB2GRAY)\n",
    "    f0 = np.array(f0, dtype=np.int16) #..... Permitir los valores negativos en la resta inicial :)\n",
    "    fn = np.array(fn, dtype=np.int16) #..... \"\"\n",
    "    D = np.array(np.abs(f0 - fn), dtype=np.uint8)\n",
    "    D = cv2.medianBlur(D,dimKernelBlur)\n",
    "    _, D = cv2.threshold(D,umbralDif,255,cv2.THRESH_BINARY)\n",
    "    contornos, _ = cv2.findContours(D,cv2.RETR_TREE,cv2.CHAIN_APPROX_SIMPLE)\n",
    "    ROIs = []\n",
    "    for contorno in contornos:\n",
    "        x,y,w,h = cv2.boundingRect(contorno)\n",
    "        ROIs.append((x,y,w,h))\n",
    "    return ROIs"
   ]
  },
  {
   "cell_type": "markdown",
   "metadata": {},
   "source": [
    "Pruebas con dos frames del video"
   ]
  },
  {
   "cell_type": "code",
   "execution_count": 14,
   "metadata": {},
   "outputs": [],
   "source": [
    "cv2_imshow(Frame_Prueba_0)\n",
    "cv2_imshow(Frame_Prueba_X)"
   ]
  },
  {
   "cell_type": "code",
   "execution_count": 15,
   "metadata": {},
   "outputs": [
    {
     "name": "stdout",
     "output_type": "stream",
     "text": [
      "5\n"
     ]
    }
   ],
   "source": [
    "auxRois = roisDeFrame(Frame_Prueba_0, Frame_Prueba_X,13,110)\n",
    "print(len(auxRois))"
   ]
  },
  {
   "cell_type": "markdown",
   "metadata": {},
   "source": [
    "Trabajamos con un DataFrame de Objetos:\n",
    ">ID | ROI | Frame | Segundo\n",
    ">--- | --- | --- | ---\n",
    ">0 | (x, y, w, h) | $f_{0}$ | $t_{0}$\n",
    ">0 | (x, y, w, h) | $f_{1}$ | $t_{0}$\n",
    ">0 | (x, y, w, h) | $f_{2}$ | $t_{1}$\n",
    ">1 | (x, y, w, h) | $f_{1}$ | $t_{0}$"
   ]
  },
  {
   "cell_type": "code",
   "execution_count": 16,
   "metadata": {},
   "outputs": [],
   "source": [
    "def asignarObjetos(objetos, rois_t, t_frame, mseg, umbralRatioAr):\n",
    "    # Comparamos los rois en un frame 't'con los rois asignados a objetos en el frame previo (cuando lo llaman debe validar eso)\n",
    "    # (Asume que debe haber continuidad, si un objeto sale de la pantalla y regresa, lo toma como otro)\n",
    "    # Utiliza un umbral de intersección para decidir si dos rois son del mismo objeto en diferentes frames\n",
    "    # RETORNA: arreglo de filas a agregar al DataFrame, con su ID de objeto, ROI, frame y segundo\n",
    "    agregados = []\n",
    "    for i in range(len(objetos)): #........ Por cada uno de los objetos en el frame t\n",
    "        objeto = objetos.iloc[i]\n",
    "        roi = objeto[\"ROI\"] #................. Compararemos su roi\n",
    "        for roi_t in rois_t: #................ con cada roi detectado en el nuevo frame\n",
    "            areaI = areaInterseccion(roi, roi_t) \n",
    "            if areaI / (roi[2] * roi[3]) > umbralRatioAr and areaI / (roi_t[2] * roi_t[3]) > umbralRatioAr: # Si el área de la intersección supera el umbral en ambos\n",
    "                agregados.append([objeto[\"ID\"], roi_t, t_frame, mseg]) #.... Agrega a un arreglo de \"filas a agregar\" al DataFrame objetos\n",
    "                rois_t.remove(roi_t) #...................................... Ya no tiene que analizar roi_t porque ya se le asignó id objeto\n",
    "    # -------- Pueden haber sobrado rois en rois_t, así que asumimos son nuevos objetos ---------------\n",
    "    n_ID = 0\n",
    "    if len(objetos) > 0:\n",
    "        n_ID = max(objetos[\"ID\"]) + 1 #.................. Empezar a enumerar a los objetos desde n_ID\n",
    "    for roi_t in rois_t:\n",
    "        agregados.append([n_ID, roi_t, t_frame, mseg])\n",
    "        n_ID += 1\n",
    "    return agregados"
   ]
  },
  {
   "cell_type": "code",
   "execution_count": 17,
   "metadata": {},
   "outputs": [],
   "source": [
    "def limpiarDF(dfObjetos):\n",
    "    idsObjetos = pd.unique(dfObjetos[\"ID\"])\n",
    "    for i in idsObjetos:\n",
    "        aux = dfObjetos[dfObjetos[\"ID\"] == i]\n",
    "        if len(aux) < 30 and len(aux) > 0:\n",
    "            aux = dfObjetos.index[dfObjetos[\"ID\"] == i].tolist()\n",
    "            dfObjetos = dfObjetos.drop(aux)\n",
    "    return dfObjetos"
   ]
  },
  {
   "cell_type": "markdown",
   "metadata": {},
   "source": [
    "**Realización:**"
   ]
  },
  {
   "cell_type": "code",
   "execution_count": 18,
   "metadata": {},
   "outputs": [
    {
     "name": "stdout",
     "output_type": "stream",
     "text": [
      "150\n"
     ]
    },
    {
     "data": {
      "text/html": [
       "<div>\n",
       "<style scoped>\n",
       "    .dataframe tbody tr th:only-of-type {\n",
       "        vertical-align: middle;\n",
       "    }\n",
       "\n",
       "    .dataframe tbody tr th {\n",
       "        vertical-align: top;\n",
       "    }\n",
       "\n",
       "    .dataframe thead th {\n",
       "        text-align: right;\n",
       "    }\n",
       "</style>\n",
       "<table border=\"1\" class=\"dataframe\">\n",
       "  <thead>\n",
       "    <tr style=\"text-align: right;\">\n",
       "      <th></th>\n",
       "      <th>ID</th>\n",
       "      <th>ROI</th>\n",
       "      <th>Frame</th>\n",
       "      <th>Segundo</th>\n",
       "    </tr>\n",
       "  </thead>\n",
       "  <tbody>\n",
       "    <tr>\n",
       "      <th>0</th>\n",
       "      <td>0</td>\n",
       "      <td>(213, 233, 6, 4)</td>\n",
       "      <td>38</td>\n",
       "      <td>1.30</td>\n",
       "    </tr>\n",
       "    <tr>\n",
       "      <th>1</th>\n",
       "      <td>0</td>\n",
       "      <td>(213, 233, 6, 4)</td>\n",
       "      <td>39</td>\n",
       "      <td>1.33</td>\n",
       "    </tr>\n",
       "    <tr>\n",
       "      <th>2</th>\n",
       "      <td>1</td>\n",
       "      <td>(220, 234, 1, 1)</td>\n",
       "      <td>40</td>\n",
       "      <td>1.37</td>\n",
       "    </tr>\n",
       "    <tr>\n",
       "      <th>3</th>\n",
       "      <td>2</td>\n",
       "      <td>(215, 233, 4, 2)</td>\n",
       "      <td>40</td>\n",
       "      <td>1.37</td>\n",
       "    </tr>\n",
       "    <tr>\n",
       "      <th>4</th>\n",
       "      <td>3</td>\n",
       "      <td>(213, 233, 10, 4)</td>\n",
       "      <td>41</td>\n",
       "      <td>1.40</td>\n",
       "    </tr>\n",
       "  </tbody>\n",
       "</table>\n",
       "</div>"
      ],
      "text/plain": [
       "   ID                ROI  Frame  Segundo\n",
       "0   0   (213, 233, 6, 4)     38     1.30\n",
       "1   0   (213, 233, 6, 4)     39     1.33\n",
       "2   1   (220, 234, 1, 1)     40     1.37\n",
       "3   2   (215, 233, 4, 2)     40     1.37\n",
       "4   3  (213, 233, 10, 4)     41     1.40"
      ]
     },
     "execution_count": 18,
     "metadata": {},
     "output_type": "execute_result"
    }
   ],
   "source": [
    "# \" *Vxp \" significa \"Experimentar con los valores\"\n",
    "capture.open(best.url)\n",
    "_, A = capture.read() #.......... Frame \"Original\", se asume que en este no hay \"objetos\" en pantalla\n",
    "A = cv2.cvtColor(A,cv2.COLOR_RGB2GRAY)\n",
    "nH = int(A.shape[0] // 1.5)\n",
    "nW = int(A.shape[1] // 1.5)\n",
    "objetos = [] #................... Arreglo que se espera sea: [ [ [(x,y,w,h), frame, milisegundo], \n",
    "#................................                                [(x,y,w,h), frame, milisegundo],...] , [ [roi, frame, t], ... ]\n",
    "A = cv2.resize(A, (nW,nH)) #................ Baja la resolución del frame\n",
    "for i in range(N_Prueba): #................. No ocupa todo el video, por ahora solo frames de prueba\n",
    "    #print(\"============== FRAME %s ==============\"%i)\n",
    "    _, b = capture.read()\n",
    "    ms = capture.get(0) # Get los milisegundos\n",
    "    ms = round( ms/1000 ,2)\n",
    "    b = cv2.cvtColor(b,cv2.COLOR_RGB2GRAY)\n",
    "    b = cv2.resize(b, (nW,nH))\n",
    "    rois = roisDeFrame(A, b, 15, 80) # * Vxp, la dimensión del kernel debe ser impar\n",
    "    #print(\">> len(objetos): \", len(objetos))\n",
    "    #print(\">> ROIs crudos: \",len(rois))\n",
    "    #---- Pasar solo los objetos que aparecieron en el frame (i-1):\n",
    "    objetos_previos = []\n",
    "    if i > 0 and len(objetos) > 0:\n",
    "        objetos_previos = objetos[objetos[\"Frame\"] == i - 1]\n",
    "    nuevasFilas = asignarObjetos(objetos_previos,rois,i,ms,0.6) # * Vxp, umbral de ratio de area interseccion\n",
    "    #---- nuevasFilas está en el formato, pero \"objetos\" puede aún ser nulo, así que valida:\n",
    "    nuevasFilas = pd.DataFrame(data=nuevasFilas,columns=[\"ID\",\"ROI\",\"Frame\",\"Segundo\"])\n",
    "    if len(objetos) > 0:\n",
    "        objetos = objetos.append(nuevasFilas,ignore_index=True) # ... Si ya existen objetos, añade los nuevos\n",
    "    else:\n",
    "        objetos = nuevasFilas #...................................... Si nunca hubieron, ahora hay\n",
    "capture.release()\n",
    "print(len(pd.unique(objetos[\"ID\"])))\n",
    "objetos.head()"
   ]
  },
  {
   "cell_type": "code",
   "execution_count": 19,
   "metadata": {},
   "outputs": [
    {
     "name": "stdout",
     "output_type": "stream",
     "text": [
      "6\n"
     ]
    },
    {
     "data": {
      "text/html": [
       "<div>\n",
       "<style scoped>\n",
       "    .dataframe tbody tr th:only-of-type {\n",
       "        vertical-align: middle;\n",
       "    }\n",
       "\n",
       "    .dataframe tbody tr th {\n",
       "        vertical-align: top;\n",
       "    }\n",
       "\n",
       "    .dataframe thead th {\n",
       "        text-align: right;\n",
       "    }\n",
       "</style>\n",
       "<table border=\"1\" class=\"dataframe\">\n",
       "  <thead>\n",
       "    <tr style=\"text-align: right;\">\n",
       "      <th></th>\n",
       "      <th>ID</th>\n",
       "      <th>ROI</th>\n",
       "      <th>Frame</th>\n",
       "      <th>Segundo</th>\n",
       "    </tr>\n",
       "  </thead>\n",
       "  <tbody>\n",
       "    <tr>\n",
       "      <th>4</th>\n",
       "      <td>3</td>\n",
       "      <td>(213, 233, 10, 4)</td>\n",
       "      <td>41</td>\n",
       "      <td>1.40</td>\n",
       "    </tr>\n",
       "    <tr>\n",
       "      <th>5</th>\n",
       "      <td>3</td>\n",
       "      <td>(213, 232, 11, 6)</td>\n",
       "      <td>42</td>\n",
       "      <td>1.43</td>\n",
       "    </tr>\n",
       "    <tr>\n",
       "      <th>6</th>\n",
       "      <td>3</td>\n",
       "      <td>(213, 231, 11, 7)</td>\n",
       "      <td>43</td>\n",
       "      <td>1.47</td>\n",
       "    </tr>\n",
       "    <tr>\n",
       "      <th>7</th>\n",
       "      <td>3</td>\n",
       "      <td>(213, 231, 11, 7)</td>\n",
       "      <td>44</td>\n",
       "      <td>1.50</td>\n",
       "    </tr>\n",
       "    <tr>\n",
       "      <th>8</th>\n",
       "      <td>3</td>\n",
       "      <td>(214, 232, 10, 6)</td>\n",
       "      <td>45</td>\n",
       "      <td>1.53</td>\n",
       "    </tr>\n",
       "    <tr>\n",
       "      <th>...</th>\n",
       "      <td>...</td>\n",
       "      <td>...</td>\n",
       "      <td>...</td>\n",
       "      <td>...</td>\n",
       "    </tr>\n",
       "    <tr>\n",
       "      <th>122</th>\n",
       "      <td>3</td>\n",
       "      <td>(217, 227, 12, 11)</td>\n",
       "      <td>82</td>\n",
       "      <td>2.77</td>\n",
       "    </tr>\n",
       "    <tr>\n",
       "      <th>123</th>\n",
       "      <td>12</td>\n",
       "      <td>(156, 267, 28, 34)</td>\n",
       "      <td>82</td>\n",
       "      <td>2.77</td>\n",
       "    </tr>\n",
       "    <tr>\n",
       "      <th>124</th>\n",
       "      <td>13</td>\n",
       "      <td>(336, 224, 25, 25)</td>\n",
       "      <td>82</td>\n",
       "      <td>2.77</td>\n",
       "    </tr>\n",
       "    <tr>\n",
       "      <th>125</th>\n",
       "      <td>3</td>\n",
       "      <td>(214, 227, 15, 12)</td>\n",
       "      <td>83</td>\n",
       "      <td>2.80</td>\n",
       "    </tr>\n",
       "    <tr>\n",
       "      <th>126</th>\n",
       "      <td>12</td>\n",
       "      <td>(155, 267, 30, 35)</td>\n",
       "      <td>83</td>\n",
       "      <td>2.80</td>\n",
       "    </tr>\n",
       "  </tbody>\n",
       "</table>\n",
       "<p>100 rows × 4 columns</p>\n",
       "</div>"
      ],
      "text/plain": [
       "     ID                 ROI  Frame  Segundo\n",
       "4     3   (213, 233, 10, 4)     41     1.40\n",
       "5     3   (213, 232, 11, 6)     42     1.43\n",
       "6     3   (213, 231, 11, 7)     43     1.47\n",
       "7     3   (213, 231, 11, 7)     44     1.50\n",
       "8     3   (214, 232, 10, 6)     45     1.53\n",
       "..   ..                 ...    ...      ...\n",
       "122   3  (217, 227, 12, 11)     82     2.77\n",
       "123  12  (156, 267, 28, 34)     82     2.77\n",
       "124  13  (336, 224, 25, 25)     82     2.77\n",
       "125   3  (214, 227, 15, 12)     83     2.80\n",
       "126  12  (155, 267, 30, 35)     83     2.80\n",
       "\n",
       "[100 rows x 4 columns]"
      ]
     },
     "execution_count": 19,
     "metadata": {},
     "output_type": "execute_result"
    }
   ],
   "source": [
    "objetos = limpiarDF(objetos)\n",
    "print(len(pd.unique(objetos[\"ID\"])))\n",
    "\n",
    "objetos.head(100)"
   ]
  },
  {
   "cell_type": "code",
   "execution_count": 20,
   "metadata": {
    "collapsed": true,
    "jupyter": {
     "outputs_hidden": true
    }
   },
   "outputs": [
    {
     "name": "stdout",
     "output_type": "stream",
     "text": [
      "     ID                 ROI  Frame  Segundo\n",
      "4     3   (213, 233, 10, 4)     41     1.40\n",
      "5     3   (213, 232, 11, 6)     42     1.43\n",
      "6     3   (213, 231, 11, 7)     43     1.47\n",
      "7     3   (213, 231, 11, 7)     44     1.50\n",
      "8     3   (214, 232, 10, 6)     45     1.53\n",
      "10    3   (213, 231, 12, 8)     46     1.57\n",
      "12    3  (213, 230, 13, 10)     47     1.60\n",
      "14    3   (214, 230, 12, 9)     48     1.63\n",
      "17    3   (214, 230, 12, 9)     49     1.67\n",
      "20    3   (213, 230, 13, 9)     50     1.70\n",
      "23    3  (213, 229, 14, 12)     51     1.74\n",
      "26    3  (213, 229, 14, 10)     52     1.77\n",
      "29    3  (213, 229, 15, 12)     53     1.80\n",
      "32    3  (213, 229, 15, 12)     54     1.84\n",
      "35    3  (214, 228, 14, 13)     55     1.87\n",
      "38    3  (213, 228, 16, 13)     56     1.90\n",
      "41    3  (213, 227, 16, 14)     57     1.94\n",
      "44    3  (213, 227, 17, 14)     58     1.97\n",
      "47    3  (213, 227, 17, 14)     59     2.00\n",
      "50    3  (213, 226, 17, 15)     60     2.04\n",
      "54    3  (213, 227, 17, 14)     61     2.07\n",
      "58    3  (214, 228, 15, 13)     62     2.10\n",
      "62    3  (214, 228, 15, 13)     63     2.14\n",
      "65    3  (214, 228, 15, 13)     64     2.17\n",
      "68    3  (214, 228, 14, 12)     65     2.20\n",
      "71    3  (214, 228, 14, 13)     66     2.24\n",
      "74    3  (215, 228, 13, 13)     67     2.27\n",
      "77    3  (214, 228, 15, 13)     68     2.30\n",
      "80    3  (215, 228, 13, 13)     69     2.34\n",
      "83    3  (215, 228, 13, 13)     70     2.37\n",
      "86    3  (215, 228, 13, 13)     71     2.40\n",
      "90    3  (215, 229, 13, 11)     72     2.44\n",
      "94    3  (217, 229, 10, 11)     73     2.47\n",
      "98    3   (218, 229, 10, 9)     74     2.50\n",
      "101   3   (218, 229, 10, 9)     75     2.54\n",
      "104   3  (219, 228, 10, 10)     76     2.57\n",
      "107   3  (219, 228, 10, 10)     77     2.60\n",
      "110   3  (218, 228, 11, 10)     78     2.64\n",
      "113   3  (219, 227, 11, 11)     79     2.67\n",
      "116   3  (219, 227, 11, 11)     80     2.70\n",
      "119   3  (218, 227, 12, 11)     81     2.74\n",
      "122   3  (217, 227, 12, 11)     82     2.77\n",
      "125   3  (214, 227, 15, 12)     83     2.80\n",
      "128   3  (214, 227, 16, 12)     84     2.84\n",
      "131   3  (214, 227, 15, 12)     85     2.87\n",
      "134   3  (212, 227, 18, 14)     86     2.90\n",
      "138   3  (211, 227, 19, 14)     87     2.94\n",
      "142   3  (210, 227, 20, 14)     88     2.97\n",
      "146   3  (209, 226, 21, 16)     89     3.00\n",
      "151   3  (209, 226, 21, 16)     90     3.04\n",
      "156   3  (208, 226, 22, 15)     91     3.07\n",
      "51\n",
      "----------------\n",
      "     ID                 ROI  Frame  Segundo\n",
      "31   12  (169, 272, 12, 16)     53     1.80\n",
      "34   12  (169, 272, 12, 16)     54     1.84\n",
      "37   12  (169, 272, 13, 17)     55     1.87\n",
      "40   12  (169, 272, 14, 19)     56     1.90\n",
      "42   12  (168, 272, 15, 19)     57     1.94\n",
      "..   ..                 ...    ...      ...\n",
      "387  12  (124, 267, 65, 50)    124     4.17\n",
      "397  12  (124, 267, 65, 50)    125     4.20\n",
      "407  12  (123, 266, 66, 51)    126     4.24\n",
      "416  12  (122, 266, 67, 52)    127     4.27\n",
      "422  12  (121, 265, 69, 53)    128     4.30\n",
      "\n",
      "[76 rows x 4 columns]\n",
      "76\n",
      "----------------\n",
      "     ID                 ROI  Frame  Segundo\n",
      "43   13   (351, 225, 9, 12)     57     1.94\n",
      "46   13   (351, 225, 9, 12)     58     1.97\n",
      "49   13   (351, 225, 9, 12)     59     2.00\n",
      "52   13  (350, 224, 10, 14)     60     2.04\n",
      "56   13  (349, 224, 12, 14)     61     2.07\n",
      "60   13  (349, 223, 12, 16)     62     2.10\n",
      "64   13  (348, 223, 13, 16)     63     2.14\n",
      "67   13  (348, 223, 13, 16)     64     2.17\n",
      "70   13  (347, 222, 14, 17)     65     2.20\n",
      "73   13  (346, 222, 15, 18)     66     2.24\n",
      "76   13  (346, 223, 15, 17)     67     2.27\n",
      "79   13  (345, 225, 16, 16)     68     2.30\n",
      "82   13  (344, 225, 17, 17)     69     2.34\n",
      "85   13  (344, 225, 17, 17)     70     2.37\n",
      "88   13  (344, 225, 17, 18)     71     2.40\n",
      "92   13  (343, 224, 18, 19)     72     2.44\n",
      "96   13  (342, 224, 19, 20)     73     2.47\n",
      "100  13  (342, 224, 18, 21)     74     2.50\n",
      "103  13  (342, 224, 18, 21)     75     2.54\n",
      "106  13  (341, 224, 19, 22)     76     2.57\n",
      "109  13  (340, 224, 20, 22)     77     2.60\n",
      "112  13  (339, 224, 21, 23)     78     2.64\n",
      "115  13  (338, 224, 23, 24)     79     2.67\n",
      "118  13  (338, 224, 23, 24)     80     2.70\n",
      "121  13  (337, 224, 24, 24)     81     2.74\n",
      "124  13  (336, 224, 25, 25)     82     2.77\n",
      "127  13  (336, 224, 25, 25)     83     2.80\n",
      "130  13  (336, 224, 25, 24)     84     2.84\n",
      "133  13  (336, 224, 25, 24)     85     2.87\n",
      "136  13  (338, 224, 23, 23)     86     2.90\n",
      "140  13  (340, 224, 21, 21)     87     2.94\n",
      "144  13  (342, 224, 19, 20)     88     2.97\n",
      "148  13  (344, 224, 17, 18)     89     3.00\n",
      "153  13  (344, 224, 17, 18)     90     3.04\n",
      "158  13  (345, 224, 16, 16)     91     3.07\n",
      "162  13  (345, 224, 16, 15)     92     3.10\n",
      "166  13  (345, 225, 16, 14)     93     3.14\n",
      "172  13  (346, 225, 15, 13)     94     3.17\n",
      "176  13  (346, 225, 15, 13)     95     3.20\n",
      "180  13  (346, 225, 15, 13)     96     3.24\n",
      "40\n",
      "----------------\n",
      "     ID                  ROI  Frame  Segundo\n",
      "258  53   (313, 223, 48, 33)    109     3.67\n",
      "268  53   (313, 223, 48, 33)    110     3.70\n",
      "272  53   (311, 223, 50, 33)    111     3.74\n",
      "279  53   (310, 223, 51, 34)    112     3.77\n",
      "285  53   (309, 223, 52, 36)    113     3.80\n",
      "..   ..                  ...    ...      ...\n",
      "819  53  (229, 215, 132, 63)    235     7.87\n",
      "823  53  (229, 215, 132, 63)    236     7.91\n",
      "826  53  (229, 215, 132, 63)    237     7.94\n",
      "829  53  (229, 215, 132, 63)    238     7.97\n",
      "833  53  (228, 215, 133, 63)    239     8.01\n",
      "\n",
      "[131 rows x 4 columns]\n",
      "131\n",
      "----------------\n",
      "     ID                 ROI  Frame  Segundo\n",
      "323  77  (217, 228, 11, 10)    116     3.90\n",
      "329  77   (218, 228, 10, 9)    117     3.94\n",
      "338  77    (220, 228, 8, 9)    118     3.97\n",
      "349  77    (220, 229, 8, 8)    119     4.00\n",
      "359  77    (220, 229, 8, 8)    120     4.04\n",
      "369  77    (221, 229, 7, 6)    121     4.07\n",
      "378  77    (220, 229, 8, 6)    122     4.10\n",
      "384  77    (220, 229, 8, 6)    123     4.14\n",
      "391  77    (220, 229, 8, 7)    124     4.17\n",
      "401  77    (220, 229, 8, 7)    125     4.20\n",
      "411  77    (220, 229, 8, 6)    126     4.24\n",
      "419  77    (221, 229, 7, 7)    127     4.27\n",
      "425  77    (220, 229, 9, 6)    128     4.30\n",
      "430  77    (220, 229, 9, 6)    129     4.34\n",
      "437  77    (220, 229, 9, 6)    130     4.37\n",
      "444  77    (220, 229, 9, 6)    131     4.40\n",
      "451  77    (220, 230, 9, 5)    132     4.44\n",
      "459  77    (221, 229, 8, 6)    133     4.47\n",
      "466  77    (220, 229, 9, 7)    134     4.50\n",
      "473  77    (220, 229, 9, 7)    135     4.54\n",
      "480  77   (220, 230, 10, 6)    136     4.57\n",
      "487  77    (220, 229, 9, 6)    137     4.60\n",
      "496  77    (220, 230, 9, 6)    138     4.64\n",
      "504  77    (220, 231, 9, 4)    139     4.67\n",
      "511  77    (220, 231, 9, 4)    140     4.70\n",
      "518  77    (220, 231, 8, 4)    141     4.74\n",
      "526  77    (221, 231, 7, 4)    142     4.77\n",
      "533  77    (220, 231, 9, 5)    143     4.80\n",
      "540  77    (220, 230, 9, 7)    144     4.84\n",
      "548  77    (220, 230, 9, 7)    145     4.87\n",
      "30\n",
      "----------------\n",
      "      ID                 ROI  Frame  Segundo\n",
      "435  114  (120, 238, 83, 81)    129     4.34\n",
      "442  114  (120, 238, 83, 81)    130     4.37\n",
      "447  114  (119, 239, 84, 80)    131     4.40\n",
      "453  114  (118, 239, 85, 80)    132     4.44\n",
      "460  114  (116, 239, 87, 81)    133     4.47\n",
      "..   ...                 ...    ...      ...\n",
      "820  114  (98, 257, 100, 76)    235     7.87\n",
      "824  114  (98, 257, 100, 76)    236     7.91\n",
      "827  114   (98, 257, 99, 76)    237     7.94\n",
      "830  114  (98, 257, 100, 76)    238     7.97\n",
      "834  114  (98, 257, 100, 76)    239     8.01\n",
      "\n",
      "[111 rows x 4 columns]\n",
      "111\n",
      "----------------\n"
     ]
    }
   ],
   "source": [
    "for i in pd.unique(objetos[\"ID\"]):\n",
    "    n = len(objetos[objetos[\"ID\"] == i])\n",
    "    print(objetos[objetos[\"ID\"] == i])\n",
    "    print(n)\n",
    "    print(\"----------------\")\n",
    "\n"
   ]
  },
  {
   "cell_type": "code",
   "execution_count": 21,
   "metadata": {},
   "outputs": [],
   "source": [
    "def graficarRectDeObjetos(imagen, objetos):\n",
    "    for i in range(len(objetos)):\n",
    "        objeto = objetos.iloc[i]\n",
    "        (x,y,w,h) = objeto[\"ROI\"]\n",
    "        cv2.rectangle(imagen, (x,y), (x+w,y+h), (255,0,0), 2)\n",
    "        texto = \"Obj %s en %s ms\"%(objeto[\"ID\"],objeto[\"Segundo\"])\n",
    "        imagen = cv2.putText(imagen, texto, (x,y), cv2.FONT_HERSHEY_SIMPLEX,  \n",
    "                   0.3, (180,255,0), 1, cv2.LINE_AA)\n",
    "    return imagen"
   ]
  },
  {
   "cell_type": "code",
   "execution_count": 47,
   "metadata": {},
   "outputs": [],
   "source": [
    "j = 0\n",
    "aux = None\n",
    "capture.open(best.url)\n",
    "while(True):\n",
    "    _, frame = capture.read()\n",
    "    frame = cv2.resize(frame, (nW,nH)) #.... TODO: pasar ROI a la resolución original :c\n",
    "    #arrROIs = objetos[objetos[\"Frame\"] == j][\"ROI\"].values\n",
    "    arrObjs = objetos[objetos[\"Frame\"] == j]\n",
    "    if len(arrObjs) > 0:\n",
    "        frame = graficarRectDeObjetos(frame, arrObjs)\n",
    "    cv2.imshow(\"Diferencia\",frame)\n",
    "    if j == 2:\n",
    "        aux = frame\n",
    "    j += 1\n",
    "    if(cv2.waitKey(20) & 0xFF == ord('q')):\n",
    "        break\n",
    "capture.release()\n",
    "cv2.destroyAllWindows()"
   ]
  },
  {
   "cell_type": "code",
   "execution_count": 23,
   "metadata": {},
   "outputs": [],
   "source": [
    "cv2_imshow(aux)"
   ]
  },
  {
   "cell_type": "markdown",
   "metadata": {},
   "source": [
    "### Extrayendo los rois como imagens"
   ]
  },
  {
   "cell_type": "code",
   "execution_count": 24,
   "metadata": {},
   "outputs": [],
   "source": [
    "Im_roi = []\n",
    "Frames = []\n",
    "def capturar_RoiIm(objs):\n",
    "    capture.open(best.url) #eso puede o no que sea cambiado\n",
    "    auxObjs = objs.copy()\n",
    "    \n",
    "    for f in range(N_Prueba): #pasando en cada frame\n",
    "        _, frame = capture.read()\n",
    "        if frame is not None:\n",
    "            for i in pd.unique(auxObjs[\"ID\"]): #por cada id de objeto que hay\n",
    "                n = len(auxObjs[auxObjs[\"ID\"] == i]) \n",
    "                if n > 0:\n",
    "                    obj = auxObjs[auxObjs[\"ID\"] == i].iloc[0] #cogiendo solo el primero en la lista de frames para ese objeto\n",
    "                    x,y,an,la = obj[1]\n",
    "                    capture.set(1, obj[2]) #dos porque ahi esta el frame en el df\n",
    "\n",
    "                    __, auxframe = capture.read() #obtenemos el primer frame de este objeto existente\n",
    "                    if auxframe is not None:\n",
    "                        roi = auxframe[x:x+an,y:y+la] #cogemos solo lo que nos importa\n",
    "                        cv2.rectangle(frame, (x,y), (x+an,y+la), (255,0,0), 2)\n",
    "                        Im_roi.append(roi) #lo ponemos en un vector por why not\n",
    "                        frame[x:x+an,y:y+la] = roi #basicamente pegamos neustro roi el el frame final xd.\n",
    "            Frames.append(frame) #guardamos el frame final\n",
    "            capture.set(1,f) #regresamos el frame al original, con suerte\n",
    "#         break #temporal para no pasar por todas las frams de verdad\n",
    "        \n",
    "            \n",
    "        \n",
    "#         i = 0\n",
    "#         while(len(auxObjs) > 0):\n",
    "#             x,y,an,la = objs.iloc[i][1]   #ancho, largo\n",
    "#             if an < 50 or la < 50:\n",
    "#                 continue\n",
    "\n",
    "#             iframe = objs.iloc[i][2]      #número del frame\n",
    "#             capture.set(1,iframe) #1 porque es un flag, numero del frame que se quiere ubicar\n",
    "#             _,frame = capture.read()\n",
    "#             if frame is not None:\n",
    "#                 im = frame[x:x+an,y:y+la]\n",
    "#             else:\n",
    "#                 print(iframe)\n",
    "#                 break \n",
    "#             i += 1\n",
    "        \n",
    "\n",
    "        \n",
    "#         _, frame = capture.read()\n",
    "#         im = frame[1]\n",
    "\n",
    "    \n",
    "\n",
    "capturar_RoiIm(objetos)"
   ]
  },
  {
   "cell_type": "code",
   "execution_count": 48,
   "metadata": {},
   "outputs": [
    {
     "name": "stdout",
     "output_type": "stream",
     "text": [
      "1440\n",
      "240\n"
     ]
    }
   ],
   "source": [
    "print(len(Im_roi))\n",
    "print(len(Frames))\n",
    "\n",
    "\n",
    "for i in range(len(Frames)):\n",
    "    cv2.imshow(\"prueba\",Frames[i])\n",
    "    if(cv2.waitKey(20) & 0xFF == ord('q')):\n",
    "        break\n",
    "    \n",
    "\n",
    "cv2.destroyAllWindows()\n",
    "\n"
   ]
  },
  {
   "cell_type": "markdown",
   "metadata": {},
   "source": [
    "#### Material adicional:"
   ]
  },
  {
   "cell_type": "markdown",
   "metadata": {},
   "source": [
    "* OpenCV Python Tutorials. *Getting started with videos*. Recuperado de: https://opencv-python-tutroals.readthedocs.io/en/latest/py_tutorials/py_gui/py_video_display/py_video_display.html\n",
    "* OpenCV. *Reading and writing images and video* Recuperado de: https://docs.opencv.org/2.4/modules/highgui/doc/reading_and_writing_images_and_video.html#videocapture-get "
   ]
  },
  {
   "cell_type": "markdown",
   "metadata": {
    "id": "pH7A73FhJ51o"
   },
   "source": [
    "### Resultados y Discusión (6 puntos)"
   ]
  },
  {
   "cell_type": "markdown",
   "metadata": {
    "id": "LWS0I-GXJ57i"
   },
   "source": [
    "<font color='green'> Discuta los **varios resultados obtenidos** por la selección de **diversos parámetros seleccionados** </font>"
   ]
  },
  {
   "cell_type": "markdown",
   "metadata": {},
   "source": [
    "La primera parte de nuestro método fue la detección de regiones de interés en dos frames distintos. Extraímos los contornos de la imagen de la diferencia de los dos frames. Dentro de este método, aplicamos el filtro de la mediana para disminuir el posible ruido en la imagen $D$ (Diferencia), y binarizamos a partir de un umbral."
   ]
  },
  {
   "cell_type": "markdown",
   "metadata": {},
   "source": [
    "Para probar los mejores valores en esta sección, tomamos dos frames del video:"
   ]
  },
  {
   "cell_type": "markdown",
   "metadata": {},
   "source": [
    "Frame 0: ![Frame 0](Informe_Recursos/Auto0.jpg)"
   ]
  },
  {
   "cell_type": "markdown",
   "metadata": {},
   "source": [
    "Frame X: ![Frame X](Informe_Recursos/AutoX.jpg)"
   ]
  },
  {
   "cell_type": "markdown",
   "metadata": {},
   "source": [
    "Entonces, aplicamos nuestro método para detectar las ROIs del frame $X$. Esperamos tener dos regiones de interés: la mujer saliendo del carro y el auto en movimiento."
   ]
  },
  {
   "cell_type": "markdown",
   "metadata": {},
   "source": [
    "Para ayudarnos con la métrica y análisis de resultados, definimos una función que retorne un arreglo de los errores paralelo a los valores obtenidos"
   ]
  },
  {
   "cell_type": "code",
   "execution_count": 26,
   "metadata": {},
   "outputs": [],
   "source": [
    "def calcError(esperado, arrObtenidos):\n",
    "    arrError = []\n",
    "    for obtenido in arrObtenidos:\n",
    "        arrError.append(abs(esperado - obtenido))\n",
    "    return arrError"
   ]
  },
  {
   "cell_type": "markdown",
   "metadata": {},
   "source": [
    "Queremos evaluar la función\n",
    "```\n",
    "roisDeFrame(f0, fn, dimKernelBlur, umbralDif)\n",
    "```"
   ]
  },
  {
   "cell_type": "code",
   "execution_count": 27,
   "metadata": {},
   "outputs": [
    {
     "ename": "NameError",
     "evalue": "name 'Frame_Prue' is not defined",
     "output_type": "error",
     "traceback": [
      "\u001b[1;31m---------------------------------------------------------------------------\u001b[0m",
      "\u001b[1;31mNameError\u001b[0m                                 Traceback (most recent call last)",
      "\u001b[1;32m<ipython-input-27-a2b9869f5fde>\u001b[0m in \u001b[0;36m<module>\u001b[1;34m\u001b[0m\n\u001b[0;32m      1\u001b[0m \u001b[1;32mfor\u001b[0m \u001b[0mi\u001b[0m \u001b[1;32min\u001b[0m \u001b[0mrange\u001b[0m\u001b[1;33m(\u001b[0m\u001b[1;36m150\u001b[0m\u001b[1;33m,\u001b[0m\u001b[1;36m255\u001b[0m\u001b[1;33m)\u001b[0m\u001b[1;33m:\u001b[0m\u001b[1;33m\u001b[0m\u001b[1;33m\u001b[0m\u001b[0m\n\u001b[1;32m----> 2\u001b[1;33m     \u001b[0mroisDeFrame\u001b[0m\u001b[1;33m(\u001b[0m\u001b[0mFrame_Prueba_0\u001b[0m\u001b[1;33m,\u001b[0m\u001b[0mFrame_Prue\u001b[0m\u001b[1;33m)\u001b[0m\u001b[1;33m\u001b[0m\u001b[1;33m\u001b[0m\u001b[0m\n\u001b[0m",
      "\u001b[1;31mNameError\u001b[0m: name 'Frame_Prue' is not defined"
     ]
    }
   ],
   "source": [
    "for i in range(150,255):\n",
    "    roisDeFrame(Frame_Prueba_0,Frame_Prue)"
   ]
  },
  {
   "cell_type": "markdown",
   "metadata": {
    "id": "jEyQ2THGJ6BA"
   },
   "source": [
    "### Conclusiones (2 puntos)"
   ]
  },
  {
   "cell_type": "markdown",
   "metadata": {
    "id": "rNOKEOoRJ6Ep"
   },
   "source": [
    "<font color='green'> Redacte, al menos, **5 conclusiones relevantes** referentes a como cubrió su objetivo y que le ayudó a optimizar sus resutlados. </font>"
   ]
  }
 ],
 "metadata": {
  "colab": {
   "name": "PDI - Examen Final - 2020-2",
   "provenance": []
  },
  "kernelspec": {
   "display_name": "Python 3",
   "language": "python",
   "name": "python3"
  },
  "language_info": {
   "codemirror_mode": {
    "name": "ipython",
    "version": 3
   },
   "file_extension": ".py",
   "mimetype": "text/x-python",
   "name": "python",
   "nbconvert_exporter": "python",
   "pygments_lexer": "ipython3",
   "version": "3.7.3"
  }
 },
 "nbformat": 4,
 "nbformat_minor": 4
}
