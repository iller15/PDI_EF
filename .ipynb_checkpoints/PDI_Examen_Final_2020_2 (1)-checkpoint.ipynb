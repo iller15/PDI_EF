{
 "cells": [
  {
   "cell_type": "markdown",
   "metadata": {
    "id": "peNv8JLDkSHF"
   },
   "source": [
    "# Procesamiento Digital de Imágenes - Examen Final"
   ]
  },
  {
   "cell_type": "markdown",
   "metadata": {
    "id": "QWNjYh93k-Rw"
   },
   "source": [
    "## Instrucciones\n",
    "\n",
    "1.\tEl examen consta de 1 pregunta y tendrá 1 semana para resolverla con su equipo del trabajo final (en caso de sobrar uno o dos alumnos pueden crearse, máximo dos equipos de 2 integrantes).\n",
    "2.\tEl trabajo será entregado, en el aula virtual, hasta las 7:59:59 am del viernes 8 de diciembre. En seguida habrá una exposición, máximo 10 minutos por grupo, de los grupos de trabajo de 8 a 10 am. **BAJO NINGUN MOTIVO SE ACEPTARAN EXAMENES FUERA DEL LIMITE DE TIEMPO INDICADO**\n",
    "3.\tEl examen cuenta con un docente académico, el cual estará conectado durante los primeros 20 minutos del examen.\n",
    "4.\tLas dudas conceptuales sobre el examen han de presentarse dentro de los primeros 20 minutos mediante un correo al profesor GONZALEZ VALENZUELA, RICARDO EUGENIO a pcsirgon@upc.edu.pe.\n",
    "5.\tLos inconvenientes técnicos pueden presentarse a pasado los primeros 20 minutos, puede comunicarlo al profesor GONZALEZ VALENZUELA, RICARDO EUGENIO a pcsirgon@upc.edu.pe.\n",
    "6.\tEl profesor en mención solo recibirá correos provenientes de las cuentas UPC, de ninguna manera se recibirán correos de cuentas públicas. \n",
    "7.\tAnte problemas técnicos, debe de forma obligatoria adjuntar evidencias del mismo, como capturas de pantalla, videos, fotos, etc. Siendo requisito fundamental que, en cada evidencia se pueda apreciar claramente la fecha y hora del sistema operativo del computador donde el alumno está rindiendo el examen. \n",
    "8.\tLos correos sobre problemas técnicos se recibirán hasta 15 minutos luego de culminado el examen.\n"
   ]
  },
  {
   "cell_type": "markdown",
   "metadata": {
    "id": "77aKbY1YFl3g"
   },
   "source": [
    "## Integrantes\n",
    "\n",
    "*   Alumno 1: <font color='green'> u20181a010 - Joaquin Adrian Galvan Diaz</font><br>\n",
    "*   Alumno 2: <font color='green'> u201818067 - Dante Brandon Moreno Carhuacusma</font><br>"
   ]
  },
  {
   "cell_type": "markdown",
   "metadata": {
    "id": "vLrugUgnlIMN"
   },
   "source": [
    "## Caso de Estudio - Video Summarization\n",
    "\n",
    "1. Descargar y/o crear videos de 10 a 15 minutos y efectuar un resumen de tiempo en los mismos.\n",
    "\n",
    "2. Aplicando únicamente técnicas de procesamiento digital de imágenes, segmentar los objetos que aparecen en diferentes instantes y sobreponerlos en una cantidad muy inferior de frames etiquetando cada objeto con los insantes de tiempo en que aparece en el video.\n",
    "\n",
    "3. En el siguiente [video](https://www.youtube.com/watch?v=gk3qTMlcadk), podrá tener un mejor concepto de lo solicitado. \n",
    "\n",
    "4.\tDocumente sus métodos y elecciones. Explique su metodología. Codifique su solución. Obtenga resultados y realice comparaciones. Redacte sus conclusiones.\n"
   ]
  },
  {
   "cell_type": "markdown",
   "metadata": {
    "id": "EIvisRJOJgJ_"
   },
   "source": [
    "## Resolución"
   ]
  },
  {
   "cell_type": "markdown",
   "metadata": {
    "id": "r02P9REKJkS1"
   },
   "source": [
    "### Metodología (6 puntos)"
   ]
  },
  {
   "cell_type": "markdown",
   "metadata": {
    "id": "fYL90_sGsXQv"
   },
   "source": [
    "<font color='green'>Aquí **enumere** y **explique** los pasos de su metodología </font>"
   ]
  },
  {
   "cell_type": "markdown",
   "metadata": {},
   "source": [
    "-- # Esto es propuesta:\n",
    "- Método 1, asume que el primer frame está \"limpio\": \n",
    "> * $A$ = Primer frame del video\n",
    "> * En cada nuevo frame $B$, hallar la diferencia $D$ = $A$ - $B$.\n",
    "> * **Si** $B$ es similar a $A$ \n",
    ">> $\\rightarrow$ $D$ estará compuesto en su mayoría por $0s$. Puede tener ruido si es por webcam, así que se aplica filtro de la media (mediana y gaussiano le dan peso al pixel del medio y quiero bajarlo lo más posible)\n",
    "> - Aplicar un filtro de edge detection simple (como Sobel) **O** Binarizar $D$, para que las diferencias grandes se noten (Canny es mucho y la imagen $D$ debería ser más sencilla).\n",
    "> - Aplicar Código de la Cadena (findContours) a $D$.\n",
    "> - Hallar ROI de los contornos en D, y asignar a una variable global el ID por \"objeto\".\n",
    "> *TODO*: Mantener el mismo ID del objeto para los diferentes frames, quizá con un Match Template entre ROIs (?) o solo asumiendo que mientras los ROIS de $D_{n}$ y $D_{n+1}$ choquen, son el mismo objeto. Cuando el objeto \"salga\" de la pantalla, esa ROI debería volver a parecerse a A y convertirse en 0s."
   ]
  },
  {
   "cell_type": "markdown",
   "metadata": {
    "id": "tvNvTKIFJvwQ"
   },
   "source": [
    "### Implementación (6 puntos)"
   ]
  },
  {
   "cell_type": "code",
   "execution_count": 4,
   "metadata": {},
   "outputs": [
    {
     "name": "stdout",
     "output_type": "stream",
     "text": [
      "Requirement already satisfied: pafy in c:\\users\\joaqu\\anaconda3\\lib\\site-packages (0.5.5)\n",
      "Requirement already satisfied: youtube-dl in c:\\users\\joaqu\\anaconda3\\lib\\site-packages (2020.11.29)\n"
     ]
    }
   ],
   "source": [
    "!pip install pafy\n",
    "!pip install youtube-dl"
   ]
  },
  {
   "cell_type": "code",
   "execution_count": 1,
   "metadata": {
    "id": "LQoyq0_GJ5aB"
   },
   "outputs": [],
   "source": [
    "import cv2\n",
    "import numpy as np\n",
    "import pafy\n",
    "import matplotlib.pyplot as plt\n",
    "\n"
   ]
  },
  {
   "cell_type": "markdown",
   "metadata": {},
   "source": [
    "## Reproducir el video"
   ]
  },
  {
   "cell_type": "code",
   "execution_count": 5,
   "metadata": {},
   "outputs": [],
   "source": [
    "url = \"https://www.youtube.com/watch?v=CkVJyAKwByw\"\n",
    "video = pafy.new(url)\n",
    "best = video.getbest(preftype=\"mp4\")\n",
    "\n",
    "capture = cv2.VideoCapture()\n",
    "capture.open(best.url)\n",
    "\n",
    "anterior = None\n",
    "start = True\n",
    "\n",
    "while (capture.isOpened()):\n",
    "    ##Por cada frame del video:\n",
    "    #capturar y mostrar el frame\n",
    "    ret, frame = capture.read()\n",
    "    #cv2.imshow(\"It's meta\",frame)\n",
    "    frame = cv2.cvtColor(frame,cv2.COLOR_RGB2GRAY)\n",
    "    \n",
    "    if not start:        \n",
    "        dif = anterior - frame\n",
    "        dif = cv2.adaptiveThreshold(frame,255,cv2.ADAPTIVE_THRESH_GAUSSIAN_C,cv2.THRESH_BINARY_INV,11,0)\n",
    "        cv2.imshow(\"Diferencia\",dif)\n",
    "        \n",
    "    else:\n",
    "        start = False\n",
    "        \n",
    "    \n",
    "    anterior = frame\n",
    "\n",
    "    if(cv2.waitKey(20) & 0xFF == ord('q')):\n",
    "        anterior = dif\n",
    "        break\n",
    "            \n",
    "\n",
    "capture.release()\n",
    "cv2.destroyAllWindows()\n",
    "\n",
    "cv2.imshow(\"Diferencia\",anterior)\n",
    "cv2.waitKey(0)\n",
    "cv2.destroyAllWindows()"
   ]
  },
  {
   "cell_type": "markdown",
   "metadata": {},
   "source": [
    "## Pruebas Dante"
   ]
  },
  {
   "cell_type": "code",
   "execution_count": null,
   "metadata": {},
   "outputs": [],
   "source": [
    "cap = cv2.VideoCapture(\"https://youtu.be/YNKo11c3EX0\")\n",
    "ret, frame = cap.read()\n",
    "print(frame)\n",
    "cv2_imshow(frame)"
   ]
  },
  {
   "cell_type": "markdown",
   "metadata": {
    "id": "pH7A73FhJ51o"
   },
   "source": [
    "### Resultados y Discusión (6 puntos)"
   ]
  },
  {
   "cell_type": "markdown",
   "metadata": {
    "id": "LWS0I-GXJ57i"
   },
   "source": [
    "<font color='green'> Discuta los **varios resultados obtenidos** por la selección de **diversos parámetros seleccionados** </font>"
   ]
  },
  {
   "cell_type": "markdown",
   "metadata": {
    "id": "jEyQ2THGJ6BA"
   },
   "source": [
    "### Conclusiones (2 puntos)"
   ]
  },
  {
   "cell_type": "markdown",
   "metadata": {
    "id": "rNOKEOoRJ6Ep"
   },
   "source": [
    "<font color='green'> Redacte, al menos, **5 conclusiones relevantes** referentes a como cubrió su objetivo y que le ayudó a optimizar sus resutlados. </font>"
   ]
  }
 ],
 "metadata": {
  "colab": {
   "name": "PDI - Examen Final - 2020-2",
   "provenance": []
  },
  "kernelspec": {
   "display_name": "Python 3",
   "language": "python",
   "name": "python3"
  },
  "language_info": {
   "codemirror_mode": {
    "name": "ipython",
    "version": 3
   },
   "file_extension": ".py",
   "mimetype": "text/x-python",
   "name": "python",
   "nbconvert_exporter": "python",
   "pygments_lexer": "ipython3",
   "version": "3.7.6"
  }
 },
 "nbformat": 4,
 "nbformat_minor": 4
}
